{
  "nbformat": 4,
  "nbformat_minor": 0,
  "metadata": {
    "colab": {
      "name": "TextRank_newspaper_sentence_summarization.ipynb",
      "provenance": [],
      "collapsed_sections": [],
      "authorship_tag": "ABX9TyPK0xOyX14czjWOdI987Lic",
      "include_colab_link": true
    },
    "kernelspec": {
      "name": "python3",
      "display_name": "Python 3"
    },
    "accelerator": "GPU"
  },
  "cells": [
    {
      "cell_type": "markdown",
      "metadata": {
        "id": "view-in-github",
        "colab_type": "text"
      },
      "source": [
        "<a href=\"https://colab.research.google.com/github/Dogdriip/notebooks/blob/main/TextRank_newspaper_sentence_summarization.ipynb\" target=\"_parent\"><img src=\"https://colab.research.google.com/assets/colab-badge.svg\" alt=\"Open In Colab\"/></a>"
      ]
    },
    {
      "cell_type": "code",
      "metadata": {
        "id": "xgQjvCDDri4t",
        "outputId": "a29d4233-eb58-4b37-8a85-32a402f954d9",
        "colab": {
          "base_uri": "https://localhost:8080/",
          "height": 306
        }
      },
      "source": [
        "!pip install konlpy"
      ],
      "execution_count": 1,
      "outputs": [
        {
          "output_type": "stream",
          "text": [
            "Requirement already satisfied: konlpy in /usr/local/lib/python3.6/dist-packages (0.5.2)\n",
            "Requirement already satisfied: colorama in /usr/local/lib/python3.6/dist-packages (from konlpy) (0.4.3)\n",
            "Requirement already satisfied: JPype1>=0.7.0 in /usr/local/lib/python3.6/dist-packages (from konlpy) (1.0.2)\n",
            "Requirement already satisfied: numpy>=1.6 in /usr/local/lib/python3.6/dist-packages (from konlpy) (1.18.5)\n",
            "Requirement already satisfied: tweepy>=3.7.0 in /usr/local/lib/python3.6/dist-packages (from konlpy) (3.9.0)\n",
            "Requirement already satisfied: beautifulsoup4==4.6.0 in /usr/local/lib/python3.6/dist-packages (from konlpy) (4.6.0)\n",
            "Requirement already satisfied: lxml>=4.1.0 in /usr/local/lib/python3.6/dist-packages (from konlpy) (4.2.6)\n",
            "Requirement already satisfied: typing-extensions; python_version < \"3.8\" in /usr/local/lib/python3.6/dist-packages (from JPype1>=0.7.0->konlpy) (3.7.4.3)\n",
            "Requirement already satisfied: requests-oauthlib>=0.7.0 in /usr/local/lib/python3.6/dist-packages (from tweepy>=3.7.0->konlpy) (1.3.0)\n",
            "Requirement already satisfied: six>=1.10.0 in /usr/local/lib/python3.6/dist-packages (from tweepy>=3.7.0->konlpy) (1.15.0)\n",
            "Requirement already satisfied: requests[socks]>=2.11.1 in /usr/local/lib/python3.6/dist-packages (from tweepy>=3.7.0->konlpy) (2.23.0)\n",
            "Requirement already satisfied: oauthlib>=3.0.0 in /usr/local/lib/python3.6/dist-packages (from requests-oauthlib>=0.7.0->tweepy>=3.7.0->konlpy) (3.1.0)\n",
            "Requirement already satisfied: certifi>=2017.4.17 in /usr/local/lib/python3.6/dist-packages (from requests[socks]>=2.11.1->tweepy>=3.7.0->konlpy) (2020.6.20)\n",
            "Requirement already satisfied: urllib3!=1.25.0,!=1.25.1,<1.26,>=1.21.1 in /usr/local/lib/python3.6/dist-packages (from requests[socks]>=2.11.1->tweepy>=3.7.0->konlpy) (1.24.3)\n",
            "Requirement already satisfied: idna<3,>=2.5 in /usr/local/lib/python3.6/dist-packages (from requests[socks]>=2.11.1->tweepy>=3.7.0->konlpy) (2.10)\n",
            "Requirement already satisfied: chardet<4,>=3.0.2 in /usr/local/lib/python3.6/dist-packages (from requests[socks]>=2.11.1->tweepy>=3.7.0->konlpy) (3.0.4)\n",
            "Requirement already satisfied: PySocks!=1.5.7,>=1.5.6; extra == \"socks\" in /usr/local/lib/python3.6/dist-packages (from requests[socks]>=2.11.1->tweepy>=3.7.0->konlpy) (1.7.1)\n"
          ],
          "name": "stdout"
        }
      ]
    },
    {
      "cell_type": "code",
      "metadata": {
        "id": "L8eKZ6RCruqh"
      },
      "source": [
        "from konlpy.tag import Kkma\n",
        "from konlpy.tag import Okt\n",
        "from sklearn.feature_extraction.text import TfidfVectorizer\n",
        "from sklearn.feature_extraction.text import CountVectorizer\n",
        "from sklearn.preprocessing import normalize\n",
        "import numpy as np"
      ],
      "execution_count": 2,
      "outputs": []
    },
    {
      "cell_type": "code",
      "metadata": {
        "id": "ti87AZl4sNT4",
        "outputId": "bb9313ef-55a3-406c-ed12-15d939ee7f64",
        "colab": {
          "base_uri": "https://localhost:8080/",
          "height": 34
        }
      },
      "source": [
        "kkma = Kkma()\n",
        "print(kkma.pos(\"안녕하세요? 오늘 날씨가 참 좋네요.\"))"
      ],
      "execution_count": 3,
      "outputs": [
        {
          "output_type": "stream",
          "text": [
            "[('안녕', 'NNG'), ('하', 'XSV'), ('세요', 'EFN'), ('?', 'SF'), ('오늘', 'NNG'), ('날씨', 'NNG'), ('가', 'JKS'), ('참', 'MAG'), ('좋', 'VA'), ('네요', 'EFN'), ('.', 'SF')]\n"
          ],
          "name": "stdout"
        }
      ]
    },
    {
      "cell_type": "code",
      "metadata": {
        "id": "K5RL7kWCsYUc"
      },
      "source": [
        "class SentenceTokenizer(object):\n",
        "  def __init__(self):\n",
        "    self.kkma = Kkma()\n",
        "    self.okt = Okt()\n",
        "    self.stopwords = ['중인' ,'만큼', '마찬가지', '꼬집었', \"연합뉴스\", \"데일리\", \"동아일보\", \"중앙일보\", \"조선일보\", \"기자\",\"아\", \"휴\", \"아이구\", \"아이쿠\", \"아이고\", \"어\", \"나\", \"우리\", \"저희\", \"따라\", \"의해\", \"을\", \"를\", \"에\", \"의\", \"가\",]\n",
        "\n",
        "  def text2sentences(self, url):\n",
        "    sentences = self.kkma.sentences(text)\n",
        "    for idx in range(len(sentences)):\n",
        "      if len(sentences[idx]) <= 10:  # if length of current sentence is lte 10, concat next sentence with current sentence.\n",
        "        sentences[idx - 1] += (\" \" + sentences[idx])\n",
        "        sentences[idx] = \"\"\n",
        "\n",
        "    return sentences\n",
        "  \n",
        "  def get_nouns(self, sentences):\n",
        "    nouns = []\n",
        "    for sentence in sentences:\n",
        "      if sentence is not \"\":\n",
        "        nouns.append(\" \".join([noun for noun in self.okt.nouns(str(sentence)) if noun not in self.stopwords and len(noun) > 1]))\n",
        "    \n",
        "    return nouns\n"
      ],
      "execution_count": 4,
      "outputs": []
    },
    {
      "cell_type": "code",
      "metadata": {
        "id": "3pACUDfOvNNh"
      },
      "source": [
        "class GraphMatrix(object):\n",
        "  def __init__(self):\n",
        "    self.tfidf = TfidfVectorizer()\n",
        "    self.cnt_vec = CountVectorizer()\n",
        "    self.graph_sentence = []\n",
        "  \n",
        "  # 명사로 이루어진 문장을 입력받아 sklearn의 TfidfVectorizer.fit_transform을 이용하여 tfidf matrix를 만든 후 Sentence graph를 return 한다.\n",
        "  def build_sent_graph(self, sentence):\n",
        "    tfidf_mat = self.tfidf.fit_transform(sentence).toarray()\n",
        "    self.graph_sentence = np.matmul(tfidf_mat, tfidf_mat.T)\n",
        "    return self.graph_sentence\n",
        "\n",
        "  # 명사로 이루어진 문장을 입력받아 sklearn의 CountVectorizer.fit_transform을 이용하여 matrix를 만든 후 word graph와 {idx: word}형태의 dictionary를 return한다.\n",
        "  def build_words_graph(self, sentence):\n",
        "    cnt_vec_mat = normalize(self.cnt_vec.fit_transform(sentence).toarray().astype(float), axis=0)\n",
        "    vocab = self.cnt_vec.vocabulary_\n",
        "    return np.matmul(cnt_vec_mat.T, cnt_vec_mat), {vocab[word] : word for word in vocab}\n"
      ],
      "execution_count": 5,
      "outputs": []
    },
    {
      "cell_type": "code",
      "metadata": {
        "id": "X9sYMnNV3z8w"
      },
      "source": [
        "class Rank(object):\n",
        "  def get_ranks(self, graph, d=0.85):\n",
        "    A = graph\n",
        "    matrix_size = A.shape[0]\n",
        "    for id in range(matrix_size):\n",
        "      A[id, id] = 0  # diagonal goes to zero\n",
        "      link_sum = np.sum(A[:, id])\n",
        "      if link_sum != 0:\n",
        "        A[:, id] /= link_sum\n",
        "      A[:, id] *= -d\n",
        "      A[id, id] = 1\n",
        "\n",
        "    B = (1 - d) * np.ones((matrix_size, 1))\n",
        "    ranks = np.linalg.solve(A, B)  # 연립방정식 Ax = B\n",
        "    return {idx: r[0] for idx, r in enumerate(ranks)}\n"
      ],
      "execution_count": 6,
      "outputs": []
    },
    {
      "cell_type": "code",
      "metadata": {
        "id": "f7bFUmUU4VOF"
      },
      "source": [
        "class TextRank(object):\n",
        "  def __init__(self, text):\n",
        "    self.sent_tokenize = SentenceTokenizer()  # What we've created\n",
        "    self.sentences = self.sent_tokenize.text2sentences(text)\n",
        "    self.nouns = self.sent_tokenize.get_nouns(self.sentences)\n",
        "\n",
        "    self.graph_matrix = GraphMatrix()  # Also what we've created\n",
        "    self.sent_graph = self.graph_matrix.build_sent_graph(self.nouns)  # Build sentence graph (adjacency matrix) with given nouns\n",
        "    self.words_graph, self.idx2word = self.graph_matrix.build_words_graph(self.nouns)  # Build words graph(?) with given nouns\n",
        "\n",
        "    self.rank = Rank()  # Also what we've created\n",
        "    self.sent_rank_idx = self.rank.get_ranks(self.sent_graph)\n",
        "    self.sorted_sent_rank_idx = sorted(self.sent_rank_idx, key=lambda k: self.sent_rank_idx[k], reverse=True)\n",
        "    self.word_rank_idx = self.rank.get_ranks(self.words_graph)\n",
        "    self.sorted_word_rank_idx = sorted(self.word_rank_idx, key=lambda k: self.word_rank_idx[k], reverse=True)\n",
        "\n",
        "  def summarize(self, sent_num=3):\n",
        "    summary = []\n",
        "    index = []\n",
        "    for idx in self.sorted_sent_rank_idx[:sent_num]:\n",
        "      index.append(idx)\n",
        "    index.sort()\n",
        "\n",
        "    for idx in index:\n",
        "      summary.append(self.sentences[idx])\n",
        "\n",
        "    return summary\n",
        "\n",
        "  def keywords(self, word_num=10):\n",
        "    rank = Rank()\n",
        "    rank_idx = rank.get_ranks(self.words_graph)\n",
        "    sorted_rank_idx = sorted(rank_idx, key=lambda k: rank_idx[k], reverse=True)\n",
        "\n",
        "    keywords = []\n",
        "    index = []\n",
        "    for idx in sorted_rank_idx[:word_num]:\n",
        "      index.append(idx)\n",
        "    \n",
        "    for idx in index:\n",
        "      keywords.append(self.idx2word[idx])\n",
        "\n",
        "    return keywords\n",
        "  "
      ],
      "execution_count": 7,
      "outputs": []
    },
    {
      "cell_type": "code",
      "metadata": {
        "id": "3o1PVAfNJaW5",
        "outputId": "c3ecc1ff-f68c-4400-dece-118941cb11b2",
        "colab": {
          "base_uri": "https://localhost:8080/",
          "height": 137
        }
      },
      "source": [
        "text = \"\"\"\n",
        "아들의 군 휴가 특혜 의혹과 관련해 검찰로부터 무혐의 처분을 받은 추미애 법무부 장관이 30일 \"제보자의 일방적인 주장을 검증하지 않고 단지 정쟁의 도구로 삼은 무책임한 세력들은 반드시 엄중한 책임을 져야 한다\"며 경고하고 나섰다. 이에 국민의힘은 \"적반하장에 기가 찰 노릇\"이라며 반박했다.\n",
        "추 장관이 이날 오전 8시쯤 페이스북에 국민에게 사과의 뜻을 밝히면서도 야권과 언론을 향해 유감을 표명했다. 검찰의 무혐의 처분 이후 이틀 만에 반격에 나선 것이다.\n",
        "추 장관은 아들 서모씨(27)의 군 휴가 특혜 관련 의혹에 대해 \"정치공세의 성격이 짙은 무리한 고소·고발로 국론을 분열시키고 국력을 소모한 사건\"으로 규정하고, \"무책임한 세력들은 반드시 엄중한 책임을 져야 할 것이다. 합당한 사과가 없을 시 후속 조치를 취하겠다\"고 경고했다.\n",
        "언론을 향해서도 \"보도 양태에 깊은 유감을 보내지 않을 수 없다\"며 \"사실과 진실을 짚는 대신 허위의 주장을 그대로 싣고 나아가 허위를 사실인 양 보도한 다수 언론은 국민에게 커다란 실망과 상처를 줬다\"고 말했다.\n",
        "'무책임한 세력'이 누구인지는 직접 밝히진 않았지만 국민의힘 등 야권과 보수 언론을 겨냥한 것으로 풀이된다.\n",
        "이에 장제원 국민의힘 의원은 자신의 페이스북에 \"'방귀 낀 X이 성낸다'라는 말이 있다. 추 장관의 적반하장에 기가 찰 노릇\"이라고 밝혔다.\n",
        "장 의원은 이어 \"추 장관이 수사 관련 자료가 공개돼 자신의 거짓말이 탄로가 나자, 사과는 커녕 국민과 언론을 향해 겁박까지 하고 나섰다\"고 지적했다.\n",
        "장 의원은 또 \"'반드시 엄중한 책임을 져야 한다' 라구요\"라고 반문한 뒤 \"국민 앞에서 눈 하나 깜짝하지 않고 했던 거짓말부터 엄중한 책임을 져야 할 것\"이라고 반박했다.\n",
        "그러면서 \"추 장관은 '합당한 사과가 없을 시 후속 조치를 취할 것' 이라며 협박도 서슴지 않는다\"며 \"저희들이 하고 싶은 말이고, 추 장관이 했던 거짓말에 대해 합당한 사과가 없을 시, 국민과 함께 후속조치를 취해 나갈 것\"이라고 경고했다.\n",
        "국민의힘 서울 송파병 당협위원장을 맡고 있는 김근식 경남대 교수도 이날 페이스북에 \"추 장관님이 국민에게 거짓말한 것부터 사과해야 한다\"며 \"먼저 죄없는 젊은이를 거짓말쟁이로 낙인찍은 것을 사과해야 한다\"고 지적했다.\n",
        "또 추 장관이 '검찰개혁 완수'를 언급한 것과 관련해선 \"제발 이제는 검찰개혁이란 말 좀 그만하라\"며 \"국민들은 이제 검찰개혁이라 쓰고 '검찰 길들이기'라고 읽는다\"고 덧붙였다.\n",
        "안혜진 국민의당 논평에서 \"부정과 부조리, 비상식적인 짓을 해도 내 편이기만 하면 무조건 보호받는 나라가 대통령께서 꿈꾸었던 나라는 아닐 것\"이라고 말했다.\n",
        "\"\"\"\n",
        "\n",
        "textrank = TextRank(text)\n",
        "for row in textrank.summarize():\n",
        "  print(row)\n",
        "  print()\n"
      ],
      "execution_count": 9,
      "outputs": [
        {
          "output_type": "execute_result",
          "data": {
            "application/vnd.google.colaboratory.intrinsic+json": {
              "type": "string"
            },
            "text/plain": [
              "'\\n아들의 군 휴가 특혜 의혹과 관련해 검찰로부터 무혐의 처분을 받은 추미애 법무부 장관이 30일 \"제보자의 일방적인 주장을 검증하지 않고 단지 정쟁의 도구로 삼은 무책임한 세력들은 반드시 엄중한 책임을 져야 한다\"며 경고하고 나섰다. 이에 국민의힘은 \"적반하장에 기가 찰 노릇\"이라며 반박했다.\\n추 장관이 이날 오전 8시쯤 페이스북에 국민에게 사과의 뜻을 밝히면서도 야권과 언론을 향해 유감을 표명했다. 검찰의 무혐의 처분 이후 이틀 만에 반격에 나선 것이다.\\n추 장관은 아들 서모씨(27)의 군 휴가 특혜 관련 의혹에 대해 \"정치공세의 성격이 짙은 무리한 고소·고발로 국론을 분열시키고 국력을 소모한 사건\"으로 규정하고, \"무책임한 세력들은 반드시 엄중한 책임을 져야 할 것이다. 합당한 사과가 없을 시 후속 조치를 취하겠다\"고 경고했다.\\n언론을 향해서도 \"보도 양태에 깊은 유감을 보내지 않을 수 없다\"며 \"사실과 진실을 짚는 대신 허위의 주장을 그대로 싣고 나아가 허위를 사실인 양 보도한 다수 언론은 국민에게 커다란 실망과 상처를 줬다\"고 말했다.\\n\\'무책임한 세력\\'이 누구인지는 직접 밝히진 않았지만 국민의힘 등 야권과 보수 언론을 겨냥한 것으로 풀이된다.\\n이에 장제원 국민의힘 의원은 자신의 페이스북에 \"\\'방귀 낀 X이 성낸다\\'라는 말이 있다. 추 장관의 적반하장에 기가 찰 노릇\"이라고 밝혔다.\\n장 의원은 이어 \"추 장관이 수사 관련 자료가 공개돼 자신의 거짓말이 탄로가 나자, 사과는 커녕 국민과 언론을 향해 겁박까지 하고 나섰다\"고 지적했다.\\n장 의원은 또 \"\\'반드시 엄중한 책임을 져야 한다\\' 라구요\"라고 반문한 뒤 \"국민 앞에서 눈 하나 깜짝하지 않고 했던 거짓말부터 엄중한 책임을 져야 할 것\"이라고 반박했다.\\n그러면서 \"추 장관은 \\'합당한 사과가 없을 시 후속 조치를 취할 것\\' 이라며 협박도 서슴지 않는다\"며 \"저희들이 하고 싶은 말이고, 추 장관이 했던 거짓말에 대해 합당한 사과가 없을 시, 국민과 함께 후속조치를 취해 나갈 것\"이라고 경고했다.\\n국민의힘 서울 송파병 당협위원장을 맡고 있는 김근식 경남대 교수도 이날 페이스북에 \"추 장관님이 국민에게 거짓말한 것부터 사과해야 한다\"며 \"먼저 죄없는 젊은이를 거짓말쟁이로 낙인찍은 것을 사과해야 한다\"고 지적했다.\\n또 추 장관이 \\'검찰개혁 완수\\'를 언급한 것과 관련해선 \"제발 이제는 검찰개혁이란 말 좀 그만하라\"며 \"국민들은 이제 검찰개혁이라 쓰고 \\'검찰 길들이기\\'라고 읽는다\"고 덧붙였다.\\n안혜진 국민의당 논평에서 \"부정과 부조리, 비상식적인 짓을 해도 내 편이기만 하면 무조건 보호받는 나라가 대통령께서 꿈꾸었던 나라는 아닐 것\"이라고 말했다.\\n'"
            ]
          },
          "metadata": {
            "tags": []
          },
          "execution_count": 9
        }
      ]
    },
    {
      "cell_type": "code",
      "metadata": {
        "id": "GK6Gi8YnPBBi",
        "outputId": "7546d364-9061-4389-cc4d-acb79d8984ed",
        "colab": {
          "base_uri": "https://localhost:8080/",
          "height": 408
        }
      },
      "source": [
        ""
      ],
      "execution_count": 10,
      "outputs": [
        {
          "output_type": "stream",
          "text": [
            "Config option `delete_to_trash` not recognized by `ColabFileContentsManager`.\n",
            "Writing notebook server cookie secret to /root/.local/share/jupyter/runtime/notebook_cookie_secret\n",
            "google.colab serverextension initialized.\n",
            "Serving notebooks from local directory: /\n",
            "0 active kernels\n",
            "The Jupyter Notebook is running at:\n",
            "http://172.28.0.2:9000/\n",
            "Use Control-C to stop this server and shut down all kernels (twice to skip confirmation).\n",
            "Kernel started: 547409b1-5332-4bfc-b312-241e03cbe9bc\n",
            "Adapting to protocol v5.1 for kernel 547409b1-5332-4bfc-b312-241e03cbe9bc\n",
            "KernelRestarter: restarting kernel (1/5), keep random ports\n",
            "WARNING:root:kernel 547409b1-5332-4bfc-b312-241e03cbe9bc restarted\n",
            "KernelRestarter: restarting kernel (1/5), keep random ports\n",
            "WARNING:root:kernel 547409b1-5332-4bfc-b312-241e03cbe9bc restarted\n",
            "Adapting to protocol v5.1 for kernel 547409b1-5332-4bfc-b312-241e03cbe9bc\n",
            "Adapting to protocol v5.1 for kernel 547409b1-5332-4bfc-b312-241e03cbe9bc\n",
            "Adapting to protocol v5.1 for kernel 547409b1-5332-4bfc-b312-241e03cbe9bc\n",
            "Adapting to protocol v5.1 for kernel 547409b1-5332-4bfc-b312-241e03cbe9bc\n",
            "KernelRestarter: restarting kernel (1/5), keep random ports\n",
            "WARNING:root:kernel 547409b1-5332-4bfc-b312-241e03cbe9bc restarted\n",
            "WARNING:root:kernel 547409b1-5332-4bfc-b312-241e03cbe9bc restarted\n",
            "WARNING:root:kernel 547409b1-5332-4bfc-b312-241e03cbe9bc restarted\n",
            "WARNING:root:kernel 547409b1-5332-4bfc-b312-241e03cbe9bc restarted\n"
          ],
          "name": "stdout"
        }
      ]
    },
    {
      "cell_type": "code",
      "metadata": {
        "id": "YC9JvB2oVdBy"
      },
      "source": [
        ""
      ],
      "execution_count": null,
      "outputs": []
    }
  ]
}